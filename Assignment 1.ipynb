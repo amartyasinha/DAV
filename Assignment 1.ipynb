{
 "cells": [
  {
   "cell_type": "markdown",
   "metadata": {},
   "source": [
    "Name: Amartya Sinha\n",
    "Roll No: AC-1207\n",
    "Data Analysis & Visualization Assignment"
   ]
  },
  {
   "cell_type": "markdown",
   "metadata": {},
   "source": [
    "1. Find whether all elements in list are numbers or not "
   ]
  },
  {
   "cell_type": "code",
   "execution_count": 2,
   "metadata": {},
   "outputs": [
    {
     "ename": "SyntaxError",
     "evalue": "invalid syntax (<string>, line 0)",
     "output_type": "error",
     "traceback": [
      "Traceback \u001b[0;36m(most recent call last)\u001b[0m:\n",
      "  File \u001b[1;32m~/.local/lib/python3.10/site-packages/IPython/core/interactiveshell.py:3398\u001b[0m in \u001b[1;35mrun_code\u001b[0m\n    exec(code_obj, self.user_global_ns, self.user_ns)\n",
      "\u001b[0;36m  Input \u001b[0;32mIn [2]\u001b[0;36m in \u001b[0;35m<cell line: 1>\u001b[0;36m\u001b[0m\n\u001b[0;31m    n = eval(input(\"Enter the total number of elements: \"))\u001b[0m\n",
      "\u001b[0;36m  File \u001b[0;32m<string>\u001b[0;36m\u001b[0m\n\u001b[0;31m    \u001b[0m\n\u001b[0m    ^\u001b[0m\n\u001b[0;31mSyntaxError\u001b[0m\u001b[0;31m:\u001b[0m invalid syntax\n"
     ]
    }
   ],
   "source": [
    "n = eval(input(\"Enter the total number of elements: \"))\n",
    "lst = []\n",
    "for i in range(n):\n",
    "    x = input(\"Enter element [{}]:\".format(i))\n",
    "    lst.append(x)\n",
    "\n",
    "print(lst)"
   ]
  },
  {
   "cell_type": "code",
   "execution_count": null,
   "metadata": {},
   "outputs": [
    {
     "name": "stdout",
     "output_type": "stream",
     "text": [
      "All elements in list are numbers\n"
     ]
    }
   ],
   "source": [
    "def check_num_in_lst():\n",
    "    for i in lst:\n",
    "        if not i.lstrip(\"-\").isdigit():\n",
    "            return False\n",
    "    return True\n",
    "\n",
    "is_numerical_list = check_num_in_lst()\n",
    "print(\"All elements in list are numbers\" if is_numerical_list else \"All elements in list are not numbers\")\n"
   ]
  },
  {
   "cell_type": "markdown",
   "metadata": {},
   "source": [
    "2. If numeric list then count number of odd values in it"
   ]
  },
  {
   "cell_type": "code",
   "execution_count": null,
   "metadata": {},
   "outputs": [
    {
     "name": "stdout",
     "output_type": "stream",
     "text": [
      "There are 3 odd values in the numerical list\n"
     ]
    }
   ],
   "source": [
    "counter = 0\n",
    "if is_numerical_list:\n",
    "    for i in lst:\n",
    "        if (int(i)%2 != 0):\n",
    "            counter += 1\n",
    "    print(\"There are {} odd values in the numerical list\".format(counter))"
   ]
  },
  {
   "cell_type": "markdown",
   "metadata": {},
   "source": [
    "3. if string list then display the largest string in the list "
   ]
  },
  {
   "cell_type": "code",
   "execution_count": null,
   "metadata": {},
   "outputs": [],
   "source": [
    "if not is_numerical_list:\n",
    "    largest_string = \"\"\n",
    "    for i in lst:\n",
    "        if len(i) > len(largest_string):\n",
    "            largest_string = i\n",
    "    print(\"The largest string in the list is {}\".format(largest_string))"
   ]
  },
  {
   "cell_type": "markdown",
   "metadata": {},
   "source": [
    "4. if all elements are strings then count numeric string and string with alphabets only separately\n"
   ]
  },
  {
   "cell_type": "code",
   "execution_count": null,
   "metadata": {},
   "outputs": [],
   "source": [
    "if not is_numerical_list:\n",
    "    count_numeric = 0\n",
    "    count_alpha = 0\n",
    "    for i in lst:\n",
    "        if i.isdigit():\n",
    "            count_numeric += 1\n",
    "        elif i.isalpha():\n",
    "            count_alpha += 1\n",
    "    print(\"{0} numeric string(s) and {1} alpha only string(s)\".format(count_numeric, count_alpha))"
   ]
  },
  {
   "cell_type": "markdown",
   "metadata": {},
   "source": [
    "5. Create a dictionary to keep track of count of distinct elements in the list e.g. {'element1': 2,element2':3...}"
   ]
  },
  {
   "cell_type": "code",
   "execution_count": null,
   "metadata": {},
   "outputs": [
    {
     "ename": "NameError",
     "evalue": "name 'lst' is not defined",
     "output_type": "error",
     "traceback": [
      "\u001b[0;31m---------------------------------------------------------------------------\u001b[0m",
      "\u001b[0;31mNameError\u001b[0m                                 Traceback (most recent call last)",
      "\u001b[1;32m/home/amartya/DAV/Assignment 1.ipynb Cell 12\u001b[0m in \u001b[0;36m<cell line: 2>\u001b[0;34m()\u001b[0m\n\u001b[1;32m      <a href='vscode-notebook-cell:/home/amartya/DAV/Assignment%201.ipynb#ch0000011?line=0'>1</a>\u001b[0m my_dic \u001b[39m=\u001b[39m {}\n\u001b[0;32m----> <a href='vscode-notebook-cell:/home/amartya/DAV/Assignment%201.ipynb#ch0000011?line=1'>2</a>\u001b[0m \u001b[39mfor\u001b[39;00m i \u001b[39min\u001b[39;00m lst:\n\u001b[1;32m      <a href='vscode-notebook-cell:/home/amartya/DAV/Assignment%201.ipynb#ch0000011?line=2'>3</a>\u001b[0m     my_dic[i] \u001b[39m=\u001b[39m lst\u001b[39m.\u001b[39mcount(i)\n\u001b[1;32m      <a href='vscode-notebook-cell:/home/amartya/DAV/Assignment%201.ipynb#ch0000011?line=3'>4</a>\u001b[0m \u001b[39mprint\u001b[39m(my_dic)\n",
      "\u001b[0;31mNameError\u001b[0m: name 'lst' is not defined"
     ]
    }
   ],
   "source": [
    "my_dic = {}\n",
    "for i in lst:\n",
    "    my_dic[i] = lst.count(i)\n",
    "print(my_dic)"
   ]
  },
  {
   "cell_type": "code",
   "execution_count": 1,
   "metadata": {},
   "outputs": [
    {
     "name": "stdout",
     "output_type": "stream",
     "text": [
      "['delhi', 'haryan', 'up', 'punjab']\n"
     ]
    },
    {
     "data": {
      "text/plain": [
       "{5: ['delhi'], 6: ['haryan', 'punjab'], 2: ['up']}"
      ]
     },
     "execution_count": 1,
     "metadata": {},
     "output_type": "execute_result"
    }
   ],
   "source": [
    "L = ['delhi', 'haryan', 'up', 'punjab']\n",
    "\n",
    "print(L)\n",
    "dictstates = {}\n",
    "\n",
    "for val in L:\n",
    "    try:\n",
    "        dictstates[len(val)].append(val)\n",
    "    except KeyError:\n",
    "        dictstates[len(val)] = [val]\n",
    "\n",
    "dictstates"
   ]
  },
  {
   "cell_type": "code",
   "execution_count": 2,
   "metadata": {},
   "outputs": [
    {
     "name": "stdout",
     "output_type": "stream",
     "text": [
      "['delhi', 'haryan', 'up', 'punjab']\n"
     ]
    },
    {
     "data": {
      "text/plain": [
       "{5: ['delhi'], 6: ['haryan', 'punjab'], 2: ['up']}"
      ]
     },
     "execution_count": 2,
     "metadata": {},
     "output_type": "execute_result"
    }
   ],
   "source": [
    "L = ['delhi', 'haryan', 'up', 'punjab']\n",
    "\n",
    "print(L)\n",
    "dictstates = {}\n",
    "\n",
    "for val in L:\n",
    "    if len(val) not in dictstates.keys():\n",
    "        dictstates[len(val)] = [val]\n",
    "    else:\n",
    "        dictstates[len(val)].append(val)\n",
    "\n",
    "dictstates"
   ]
  },
  {
   "cell_type": "code",
   "execution_count": null,
   "metadata": {},
   "outputs": [
    {
     "name": "stdout",
     "output_type": "stream",
     "text": [
      "-9\n"
     ]
    }
   ],
   "source": [
    "fn = lambda a, b: ~(a**b)\n",
    "print(fn(2, 3))"
   ]
  },
  {
   "cell_type": "code",
   "execution_count": null,
   "metadata": {},
   "outputs": [
    {
     "name": "stdout",
     "output_type": "stream",
     "text": [
      "    1 and      13\n"
     ]
    }
   ],
   "source": [
    "print('{0:5} and {1:7}'.format(9&5, 9|5))"
   ]
  },
  {
   "cell_type": "code",
   "execution_count": null,
   "metadata": {},
   "outputs": [
    {
     "name": "stdout",
     "output_type": "stream",
     "text": [
      "    1 and 1300000\n"
     ]
    }
   ],
   "source": [
    "print('{0:5} and {1:<07}'.format(9&5, 9|5))"
   ]
  },
  {
   "cell_type": "code",
   "execution_count": null,
   "metadata": {},
   "outputs": [],
   "source": [
    "def fn1(L):\n",
    "    for x in L:\n",
    "        print(x**3+2**x)"
   ]
  },
  {
   "cell_type": "code",
   "execution_count": null,
   "metadata": {},
   "outputs": [
    {
     "name": "stdout",
     "output_type": "stream",
     "text": [
      "12\n",
      "35\n",
      "144115188076041065\n",
      "18446744073709813760\n"
     ]
    }
   ],
   "source": [
    "L = [2, 3, 57, 64]\n",
    "fn1(L)"
   ]
  },
  {
   "cell_type": "code",
   "execution_count": 3,
   "metadata": {},
   "outputs": [
    {
     "name": "stdout",
     "output_type": "stream",
     "text": [
      "['Adan', 'Alan', 'Albert', 'Steven', 'West', 'Will']\n"
     ]
    }
   ],
   "source": [
    "import itertools\n",
    "first_letter = lambda x: x[-1]\n",
    "names = ['Alan', 'Adan', 'Albert', 'West', 'Will', 'Steven']\n",
    "names.sort()\n",
    "print(names)"
   ]
  },
  {
   "cell_type": "code",
   "execution_count": null,
   "metadata": {},
   "outputs": [
    {
     "data": {
      "text/plain": [
       "[('n', <itertools._grouper at 0x7efdcb9bf0d0>),\n",
       " ('t', <itertools._grouper at 0x7efdcb9bd9f0>),\n",
       " ('n', <itertools._grouper at 0x7efdcb9bfd00>),\n",
       " ('t', <itertools._grouper at 0x7efdcb9bf4c0>),\n",
       " ('l', <itertools._grouper at 0x7efdcb9bf130>)]"
      ]
     },
     "execution_count": 8,
     "metadata": {},
     "output_type": "execute_result"
    }
   ],
   "source": [
    "list(itertools.groupby(names, first_letter))"
   ]
  },
  {
   "cell_type": "markdown",
   "metadata": {},
   "source": [
    "multiply two matrices using numpy library\n",
    "\n",
    "sort using last letter (lambda fn usage)"
   ]
  }
 ],
 "metadata": {
  "kernelspec": {
   "display_name": "Python 3 (ipykernel)",
   "language": "python",
   "name": "python3"
  },
  "language_info": {
   "codemirror_mode": {
    "name": "ipython",
    "version": 3
   },
   "file_extension": ".py",
   "mimetype": "text/x-python",
   "name": "python",
   "nbconvert_exporter": "python",
   "pygments_lexer": "ipython3",
   "version": "3.10.6"
  },
  "vscode": {
   "interpreter": {
    "hash": "e7370f93d1d0cde622a1f8e1c04877d8463912d04d973331ad4851f04de6915a"
   }
  }
 },
 "nbformat": 4,
 "nbformat_minor": 2
}
