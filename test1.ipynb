{
 "cells": [
  {
   "cell_type": "markdown",
   "metadata": {},
   "source": [
    "Name: Amartya Sinha\n",
    "\n",
    "Roll No: AC-1207\n",
    "\n",
    "Data Analysis & Visualization\n",
    "\n"
   ]
  },
  {
   "cell_type": "code",
   "execution_count": null,
   "metadata": {},
   "outputs": [],
   "source": [
    "########################################################"
   ]
  },
  {
   "cell_type": "markdown",
   "metadata": {},
   "source": [
    "Q1. Given a list of names, use list comprehension to reverse those names which starts with \n",
    "\n",
    "letter ‘Z’ and ends with letter ‘a’ (4)"
   ]
  },
  {
   "cell_type": "code",
   "execution_count": 1,
   "metadata": {},
   "outputs": [
    {
     "name": "stdout",
     "output_type": "stream",
     "text": [
      "Original Names:  ['abc', 'xyz', 'z oa']\n",
      "Names After Reverse on Condition:  ['abc', 'xyz', 'ao z']\n"
     ]
    }
   ],
   "source": [
    "names = ['abc', 'xyz', 'z oa']\n",
    "print(\"Original Names: \", names)\n",
    "\n",
    "new_names = [name[::-1] if name.startswith('z') and name.endswith('a') else name for name in names]\n",
    "# for name in names:\n",
    "#     if name.startswith('z') and name.endswith('a'):\n",
    "#         name = name[::-1]\n",
    "\n",
    "print(\"Names After Reverse on Condition: \", new_names)"
   ]
  },
  {
   "cell_type": "markdown",
   "metadata": {},
   "source": [
    "Q2 Create an array for marks in 5 subjects for 6 students where marks are in (0-100). Take \n",
    "\n",
    "another array having names of 6 students. Do the following: (3+3+3)\n",
    "\n",
    "a. Find name of students with average marks > 90\n",
    "\n",
    "b. Count number of students having marks more than that of the average of class\n",
    "\n",
    "c. For each student display the number of subjects in which they have scored > 60 marks \n",
    "\n",
    "and display the following:\n",
    "\n",
    "I. Name of students number of subjects where marks>60"
   ]
  },
  {
   "cell_type": "code",
   "execution_count": 26,
   "metadata": {},
   "outputs": [
    {
     "name": "stdout",
     "output_type": "stream",
     "text": [
      "Marks of 6 Students in 5 Subjects:\n",
      " [[22 17  4 55 60 27]\n",
      " [ 9 29 39 60 67 84]\n",
      " [52 71 92 29 64 17]\n",
      " [17 63  3 68 75 52]\n",
      " [27 21 51 98 50 35]]\n",
      "Names of 6 Students ['a', 'b', 'c', 'd', 'e', 'f']\n"
     ]
    }
   ],
   "source": [
    "import numpy as np\n",
    "\n",
    "marks = np.random.randint(0,100,(5,6))\n",
    "print(\"Marks of 6 Students in 5 Subjects:\\n\", marks)\n",
    "\n",
    "names = ['a', 'b', 'c', 'd', 'e', 'f']\n",
    "print(\"Names of 6 Students\", names)"
   ]
  },
  {
   "cell_type": "code",
   "execution_count": 27,
   "metadata": {},
   "outputs": [
    {
     "name": "stdout",
     "output_type": "stream",
     "text": [
      "Avg Marks of Students:  [25.4 40.2 37.8 62.  63.2 43. ]\n",
      "d\n",
      "e\n"
     ]
    }
   ],
   "source": [
    "avg_marks = np.average(marks, axis=0)\n",
    "print(\"Avg Marks of Students: \", avg_marks)\n",
    "ind = np.where(avg_marks>60)[0]    # since no student has avg > 90\n",
    "\n",
    "for i in ind:\n",
    "    print(names[i])"
   ]
  },
  {
   "cell_type": "code",
   "execution_count": 28,
   "metadata": {},
   "outputs": [
    {
     "name": "stdout",
     "output_type": "stream",
     "text": [
      "Class Avg Marks:  45.266666666666666\n",
      "No of Students with more than Class Avg:  2\n"
     ]
    }
   ],
   "source": [
    "class_avg = np.average(marks)\n",
    "print(\"Class Avg Marks: \", class_avg)\n",
    "\n",
    "print(\"No of Students with more than Class Avg: \", np.count_nonzero(avg_marks>class_avg))"
   ]
  },
  {
   "cell_type": "code",
   "execution_count": 40,
   "metadata": {},
   "outputs": [
    {
     "name": "stdout",
     "output_type": "stream",
     "text": [
      "No of Students where marks>60 for each Student\n",
      "a: 0\n",
      "b: 2\n",
      "c: 1\n",
      "d: 2\n",
      "e: 3\n"
     ]
    }
   ],
   "source": [
    "print(\"No of Students where marks>60 for each Student\")\n",
    "for (i, sub_marks), each_stu_marks in zip(enumerate(marks), marks.T):\n",
    "    print(names[i], end=\": \")\n",
    "    print(np.count_nonzero(each_stu_marks>60))"
   ]
  },
  {
   "cell_type": "markdown",
   "metadata": {},
   "source": [
    "Q3. Create a 3x4 array of random numbers. Write two ways to set its second row to zero and \n",
    "\n",
    "third row to maximum value in the original matrix (2+2)"
   ]
  },
  {
   "cell_type": "code",
   "execution_count": 50,
   "metadata": {},
   "outputs": [
    {
     "name": "stdout",
     "output_type": "stream",
     "text": [
      "[[-1.32378764 -0.35258972 -0.47116928  0.20772276]\n",
      " [ 0.97878502 -0.6991125  -0.40136923  0.42825752]\n",
      " [-1.24188061 -0.77870287  0.40086077  0.07631309]]\n"
     ]
    }
   ],
   "source": [
    "my_arr = np.random.randn(3,4)\n",
    "print(my_arr)\n"
   ]
  },
  {
   "cell_type": "code",
   "execution_count": 51,
   "metadata": {},
   "outputs": [
    {
     "name": "stdout",
     "output_type": "stream",
     "text": [
      "[[-1.32378764 -0.35258972 -0.47116928  0.20772276]\n",
      " [ 0.          0.          0.          0.        ]\n",
      " [ 0.40086077  0.40086077  0.40086077  0.40086077]]\n"
     ]
    }
   ],
   "source": [
    "my_arr[[1]] = 0\n",
    "my_arr[[2]] = np.amax(my_arr)\n",
    "\n",
    "print(my_arr)"
   ]
  },
  {
   "cell_type": "code",
   "execution_count": 52,
   "metadata": {},
   "outputs": [
    {
     "name": "stdout",
     "output_type": "stream",
     "text": [
      "[[-0.65561574 -0.39418658 -2.02337197 -0.42476684]\n",
      " [ 0.09275159 -1.29651915 -0.7154588  -0.34614912]\n",
      " [-0.41921325  0.01697083 -1.70087202  0.02590159]]\n"
     ]
    }
   ],
   "source": [
    "another_arr = np.random.randn(3,4)\n",
    "print(another_arr)"
   ]
  },
  {
   "cell_type": "code",
   "execution_count": 55,
   "metadata": {},
   "outputs": [
    {
     "name": "stdout",
     "output_type": "stream",
     "text": [
      "[[-0.65561574 -0.39418658 -2.02337197 -0.42476684]\n",
      " [ 0.          0.          0.          0.        ]\n",
      " [ 0.02590159  0.02590159  0.02590159  0.02590159]]\n"
     ]
    }
   ],
   "source": [
    "another_arr[1:2] = 0\n",
    "another_arr[2:] = np.amax(another_arr)\n",
    "\n",
    "print(another_arr)"
   ]
  },
  {
   "cell_type": "markdown",
   "metadata": {},
   "source": [
    "Q4. Write a lambda function which takes an element x, and returns the reverse of the element \n",
    "\n",
    "in uppercases. Make sure element passed must be of string type else raise exception. (3)"
   ]
  },
  {
   "cell_type": "code",
   "execution_count": 29,
   "metadata": {},
   "outputs": [
    {
     "name": "stdout",
     "output_type": "stream",
     "text": [
      "OLLEH\n"
     ]
    }
   ],
   "source": [
    "fn = lambda x: x[::-1].upper()\n",
    "\n",
    "my_inp = input(\"Enter the String you want to reverse:\")\n",
    "try:\n",
    "    if my_inp.isdigit():\n",
    "        raise ValueError \n",
    "    else:\n",
    "        print(fn(my_inp))\n",
    "except ValueError:\n",
    "    print(\"Only Strings are allowed\")\n",
    "\n"
   ]
  }
 ],
 "metadata": {
  "kernelspec": {
   "display_name": "Python 3.10.5 64-bit",
   "language": "python",
   "name": "python3"
  },
  "language_info": {
   "codemirror_mode": {
    "name": "ipython",
    "version": 3
   },
   "file_extension": ".py",
   "mimetype": "text/x-python",
   "name": "python",
   "nbconvert_exporter": "python",
   "pygments_lexer": "ipython3",
   "version": "3.10.6"
  },
  "orig_nbformat": 4,
  "vscode": {
   "interpreter": {
    "hash": "e7370f93d1d0cde622a1f8e1c04877d8463912d04d973331ad4851f04de6915a"
   }
  }
 },
 "nbformat": 4,
 "nbformat_minor": 2
}
