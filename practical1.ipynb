{
 "cells": [
  {
   "cell_type": "markdown",
   "metadata": {},
   "source": [
    "Name: Amartya Sinha\n",
    "\n",
    "Roll No: AC-1207\n"
   ]
  },
  {
   "cell_type": "code",
   "execution_count": null,
   "metadata": {},
   "outputs": [],
   "source": [
    "# 1.Given below is a dictionary having two keys ‘Boys’ and ‘Girls’ and having\n",
    "# two lists of heights of five Boys and Five Girls respectively as values\n",
    "# associated with these keys.\n",
    "\n",
    "#   Original dictionary of lists:\n",
    "#   {'Boys': [72, 68, 70, 69, 74], 'Girls': [63, 65, 69, 62, 61]}\n",
    "\n",
    "#   From the given dictionary of lists create the following list of\n",
    "#   dictionaries:\n",
    "#   [{'Boys': 72, 'Girls': 63},\n",
    "#    {'Boys': 68, 'Girls': 65},\n",
    "#    {'Boys': 70, 'Girls': 69},\n",
    "#    {'Boys': 69, 'Girls': 62},\n",
    "#    {‘Boys’:74,  ‘Girls’ :61}]"
   ]
  },
  {
   "cell_type": "code",
   "execution_count": 30,
   "metadata": {},
   "outputs": [
    {
     "data": {
      "text/plain": [
       "{'Boys': [72, 68, 70, 69, 74], 'Girls': [63, 65, 69, 62, 61]}"
      ]
     },
     "execution_count": 30,
     "metadata": {},
     "output_type": "execute_result"
    }
   ],
   "source": [
    "dic1 = {'Boys': [72, 68, 70, 69, 74], 'Girls': [63, 65, 69, 62, 61]}\n",
    "dic1"
   ]
  },
  {
   "cell_type": "code",
   "execution_count": 34,
   "metadata": {},
   "outputs": [
    {
     "data": {
      "text/plain": [
       "[{'Boys': 72, 'Girls': 63},\n",
       " {'Boys': 68, 'Girls': 65},\n",
       " {'Boys': 70, 'Girls': 69},\n",
       " {'Boys': 69, 'Girls': 62},\n",
       " {'Boys': 74, 'Girls': 61}]"
      ]
     },
     "execution_count": 34,
     "metadata": {},
     "output_type": "execute_result"
    }
   ],
   "source": [
    "lst = []\n",
    "\n",
    "for height_ind in range(5):  # using 5 as there are five boys and five girls\n",
    "    d = {}\n",
    "    for key in dic1:\n",
    "        d[key] = dic1[key][height_ind]\n",
    "    lst.append(d)\n",
    "\n",
    "lst"
   ]
  },
  {
   "cell_type": "code",
   "execution_count": null,
   "metadata": {},
   "outputs": [],
   "source": [
    "# 2.Given are three lists where L1 has names of n students, L2 has marks and\n",
    "# L3 has hobbies of n students.Using three lists, create the following\n",
    "# dictionary with hobbies as keys and (names,marks) as values. In case more\n",
    "# than one student has same hobby then values must be appended for the same\n",
    "# key instead of overwriting.\n",
    "\n",
    "#   E.g.\n",
    "#   L1=['A','B','C']L2=[100,40,50] L3=['painting','music','painting']\n",
    "\n",
    "#   then output should be:\n",
    "#   dict1={painting:(('A',100),('C',50)), 'music':('B',40)}"
   ]
  },
  {
   "cell_type": "code",
   "execution_count": 47,
   "metadata": {},
   "outputs": [],
   "source": [
    "L1 = ['Abhishek', 'Aditi', 'Aditya', 'Aman', 'Amartya', 'Amit']\n",
    "L2 = [75, 80, 84, 75, 82, 79]\n",
    "L3 = ['cricket', 'painting', 'coding', 'cricket', 'coding', 'cricket']"
   ]
  },
  {
   "cell_type": "code",
   "execution_count": 50,
   "metadata": {},
   "outputs": [
    {
     "data": {
      "text/plain": [
       "{'cricket': (('Abhishek', 75), ('Aman', 75), ('Amit', 79)),\n",
       " 'painting': ('Aditi', 80),\n",
       " 'coding': (('Aditya', 84), ('Amartya', 82))}"
      ]
     },
     "execution_count": 50,
     "metadata": {},
     "output_type": "execute_result"
    }
   ],
   "source": [
    "dic2 = {}\n",
    "myzip = zip(L3, L2, L1)\n",
    "\n",
    "for hb, mrk, nm in myzip:\n",
    "    # when hobbey key does not exist\n",
    "    if not hb in dic2.keys():\n",
    "        dic2[hb] = (nm, mrk)\n",
    "    # when only one value is for the hobby\n",
    "    elif type(dic2[hb]) == tuple:\n",
    "        temp = []\n",
    "        temp.append(dic2[hb])\n",
    "        temp.append((nm, mrk))\n",
    "        dic2[hb] = temp\n",
    "    # when more than one value exist for the hobby\n",
    "    else:\n",
    "        dic2[hb].append((nm, mrk))\n",
    "\n",
    "\n",
    "for i in dic2.keys():\n",
    "    dic2[i] = tuple(dic2[i])\n",
    "dic2"
   ]
  },
  {
   "cell_type": "code",
   "execution_count": null,
   "metadata": {},
   "outputs": [],
   "source": [
    "# 3. Write  two  lambda functions\n",
    "\n",
    "#  a. One to  arrange a list of names on the last letter of the name i.e.\n",
    "#     names=['axc','bxbb','xxb','zzxy','zzc']\n",
    "#     then new sorted list on last letter  is\n",
    "#     ['bxbb', 'xxb', 'axc', 'zzc', 'zzxy']\n",
    "\n",
    "#  b. Second lambda function arranges list on the length of names and store\n",
    "#     results in dictionary with length as key and value as names"
   ]
  },
  {
   "cell_type": "code",
   "execution_count": 2,
   "metadata": {},
   "outputs": [],
   "source": [
    "names = ['Alan', 'Bradman', 'Adan', 'Albert', 'West', 'Will', 'Steven']"
   ]
  },
  {
   "cell_type": "code",
   "execution_count": 3,
   "metadata": {},
   "outputs": [
    {
     "data": {
      "text/plain": [
       "['Will', 'Alan', 'Bradman', 'Adan', 'Steven', 'Albert', 'West']"
      ]
     },
     "execution_count": 3,
     "metadata": {},
     "output_type": "execute_result"
    }
   ],
   "source": [
    "l_letter_sorted = sorted(names, key = lambda x: x[-1])\n",
    "l_letter_sorted"
   ]
  },
  {
   "cell_type": "code",
   "execution_count": 4,
   "metadata": {},
   "outputs": [
    {
     "data": {
      "text/plain": [
       "{4: ['Alan', 'Adan', 'West', 'Will'], 6: ['Albert', 'Steven'], 7: ['Bradman']}"
      ]
     },
     "execution_count": 4,
     "metadata": {},
     "output_type": "execute_result"
    }
   ],
   "source": [
    "len_sorted = sorted(names, key=lambda x: len(x))\n",
    "\n",
    "mydic = {}\n",
    "for val in len_sorted:\n",
    "    if len(val) not in mydic.keys():\n",
    "        mydic[len(val)] = [val]\n",
    "    else:\n",
    "        mydic[len(val)].append(val)\n",
    "\n",
    "mydic\n"
   ]
  },
  {
   "cell_type": "code",
   "execution_count": 5,
   "metadata": {},
   "outputs": [
    {
     "data": {
      "text/plain": [
       "{4: ['Alan', 'Adan', 'West', 'Will'], 6: ['Albert', 'Steven'], 7: ['Bradman']}"
      ]
     },
     "execution_count": 5,
     "metadata": {},
     "output_type": "execute_result"
    }
   ],
   "source": [
    "# alternate method\n",
    "\n",
    "len_sorted = sorted(names, key=lambda x: len(x))\n",
    "\n",
    "mydico = {}\n",
    "result = lambda x: mydico.update({len(x) : [x]} if len(x) not in mydico.keys() else {len(x) : mydico[len(x)] + [x]})\n",
    "[result(val) for val in len_sorted]\n",
    "\n",
    "mydico"
   ]
  },
  {
   "cell_type": "code",
   "execution_count": null,
   "metadata": {},
   "outputs": [],
   "source": [
    "# 4. Write programs in Python using NumPy library to do the following:\n",
    "\n",
    "#  a. Compute the mean, standard deviation, and variance of a two dimensional\n",
    "#     random integer arrayalong the second axis.\n",
    "\n",
    "#  b. Get the indices of the sorted elements of a given array.\n",
    "#     B= [56, 48, 22, 41, 78, 91, 24, 46, 8, 33]\n",
    "\n",
    "#  c. Create a 2-dimensional array of size m x n integer elements, also print\n",
    "#     the shape, type and datatype of the array and then reshape it into nx m\n",
    "#     array, n and m are user inputs given at the run time.\n",
    "\n",
    "#  d. Test whether the elements of a given array are zero, non-zero and NaN.\n",
    "#     Record the indices of these elements in three separate arrays."
   ]
  },
  {
   "cell_type": "code",
   "execution_count": 3,
   "metadata": {},
   "outputs": [
    {
     "name": "stdout",
     "output_type": "stream",
     "text": [
      "Two Dimensional Random integer Array is [[9 6 6 5]]\n",
      "Its shape is (1, 4)\n",
      "\n",
      "Mean is 6.5\n",
      "Standard Deviation is 1.5\n",
      "Variance is 2.25\n"
     ]
    }
   ],
   "source": [
    "import numpy as np\n",
    "\n",
    "myarr = np.random.randint(5, 10, (1, 4))\n",
    "\n",
    "print(\"Two Dimensional Random integer Array is\", myarr)\n",
    "\n",
    "print(\"Its shape is\", myarr.shape)\n",
    "\n",
    "print(\"\\nMean is\", np.mean(myarr))"
   ]
  },
  {
   "cell_type": "code",
   "execution_count": 3,
   "metadata": {},
   "outputs": [
    {
     "name": "stdout",
     "output_type": "stream",
     "text": [
      "Array is [56 48 22 41 78 91 24 46  8 33]\n",
      "Indices of the sorted elements of array B are [8 2 6 9 3 7 1 0 4 5]\n"
     ]
    }
   ],
   "source": [
    "B = np.array([56, 48, 22, 41, 78, 91, 24, 46, 8, 33])\n",
    "\n",
    "print(\"Array is\", B)\n",
    "print(\"Indices of the sorted elements of array B are\", np.argsort(B))"
   ]
  },
  {
   "cell_type": "code",
   "execution_count": 4,
   "metadata": {},
   "outputs": [
    {
     "name": "stdout",
     "output_type": "stream",
     "text": [
      "Array of size (4, 3):\n",
      " [[6 7 9]\n",
      " [9 6 7]\n",
      " [8 7 9]\n",
      " [6 8 7]]\n",
      "Its shape is (4, 3)\n",
      "\n",
      "Reshaped Array of size (3, 4):\n",
      " [[6 7 9]\n",
      " [9 6 7]\n",
      " [8 7 9]\n",
      " [6 8 7]]\n",
      "Its shape is (3, 4)\n"
     ]
    }
   ],
   "source": [
    "m = int(input(\"Enter m:\"))\n",
    "n = int(input(\"Enter n:\"))\n",
    "\n",
    "myarray = np.random.randint(5,10, (m,n))\n",
    "\n",
    "print(\"Array of size ({0}, {1}):\\n {2}\".format(m, n, myarray))\n",
    "print(\"Its shape is\", myarray.shape)\n",
    "\n",
    "reshaped_arr = np.reshape(myarray, (n, m))\n",
    "\n",
    "print(\"\\nReshaped Array of size ({0}, {1}):\\n {2}\".format(n, m, myarray))\n",
    "print(\"Its shape is\", reshaped_arr.shape)\n"
   ]
  },
  {
   "cell_type": "code",
   "execution_count": 6,
   "metadata": {},
   "outputs": [
    {
     "name": "stdout",
     "output_type": "stream",
     "text": [
      "Indices of Non Zero Elements:\n",
      " [0 1 3 4 5 7 8]\n",
      "\n",
      "Indices of Zero Elements:\n",
      " [[2]\n",
      " [6]]\n",
      "\n",
      "Indices of NaN Elements:\n",
      " [[1]\n",
      " [8]]\n"
     ]
    }
   ],
   "source": [
    "arr_is_back = np.array([1, np.nan, 0, 5, 8, 34, 0, 3, np.nan])\n",
    "\n",
    "print(\"Indices of Non Zero Elements:\\n\", np.where(arr_is_back != 0)[0])\n",
    "print(\"\\nIndices of Zero Elements:\\n\", np.argwhere(arr_is_back == 0))\n",
    "print(\"\\nIndices of NaN Elements:\\n\", np.argwhere(np.isnan(arr_is_back)))"
   ]
  },
  {
   "cell_type": "code",
   "execution_count": null,
   "metadata": {},
   "outputs": [],
   "source": [
    "# 5. Generate a 2D array having values from 1 to 100  of shape (4,5).\n",
    "\n",
    "#   I. Multiply all elements that are greater than 50 by 2\n",
    "#  II. Extract 2x2 lower-right matrix from the given array and find its\n",
    "#      largest element   "
   ]
  },
  {
   "cell_type": "code",
   "execution_count": 57,
   "metadata": {},
   "outputs": [
    {
     "name": "stdout",
     "output_type": "stream",
     "text": [
      "Array of shape (4,5) with values from 1 to 100:\n",
      " [[88  6 66  2 90]\n",
      " [77 34  4  3 98]\n",
      " [44 30 15 61 60]\n",
      " [43 27 66 88 68]]\n"
     ]
    }
   ],
   "source": [
    "another_array = np.random.randint(1,100, (4,5))\n",
    "print(\"Array of shape (4,5) with values from 1 to 100:\\n\",another_array)\n"
   ]
  },
  {
   "cell_type": "code",
   "execution_count": 58,
   "metadata": {},
   "outputs": [
    {
     "name": "stdout",
     "output_type": "stream",
     "text": [
      "Elements Greater than 50 after multiplied by 2:\n",
      " [[176   6 132   2 180]\n",
      " [154  34   4   3 196]\n",
      " [ 44  30  15 122 120]\n",
      " [ 43  27 132 176 136]]\n"
     ]
    }
   ],
   "source": [
    "another_array[another_array > 50] = 2*another_array[another_array > 50]\n",
    "\n",
    "print(\"Elements Greater than 50 after multiplied by 2:\\n\",another_array)"
   ]
  },
  {
   "cell_type": "code",
   "execution_count": 60,
   "metadata": {},
   "outputs": [
    {
     "name": "stdout",
     "output_type": "stream",
     "text": [
      "2X2 lower-right matrix from the original array:\n",
      " [[122 120]\n",
      " [176 136]]\n",
      "\n",
      "Its maximum element is 176\n"
     ]
    }
   ],
   "source": [
    "small_matrix = another_array[-2:, -2:]\n",
    "\n",
    "print(\"2X2 lower-right matrix from the original array:\\n\", small_matrix)\n",
    "print(\"\\nIts maximum element is\", np.amax(small_matrix))"
   ]
  }
 ],
 "metadata": {
  "kernelspec": {
   "display_name": "Python 3.10.5 64-bit",
   "language": "python",
   "name": "python3"
  },
  "language_info": {
   "codemirror_mode": {
    "name": "ipython",
    "version": 3
   },
   "file_extension": ".py",
   "mimetype": "text/x-python",
   "name": "python",
   "nbconvert_exporter": "python",
   "pygments_lexer": "ipython3",
   "version": "3.10.6"
  },
  "orig_nbformat": 4,
  "vscode": {
   "interpreter": {
    "hash": "e7370f93d1d0cde622a1f8e1c04877d8463912d04d973331ad4851f04de6915a"
   }
  }
 },
 "nbformat": 4,
 "nbformat_minor": 2
}
