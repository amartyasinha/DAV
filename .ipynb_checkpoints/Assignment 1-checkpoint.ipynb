{
 "cells": [
  {
   "cell_type": "markdown",
   "metadata": {},
   "source": [
    "Name: Amartya Sinha\n",
    "Roll No: AC-1207\n",
    "Data Analysis & Visualization Assignment"
   ]
  },
  {
   "cell_type": "markdown",
   "metadata": {},
   "source": [
    "1. Find whether all elements in list are numbers or not "
   ]
  },
  {
   "cell_type": "code",
   "execution_count": 7,
   "metadata": {},
   "outputs": [
    {
     "name": "stdout",
     "output_type": "stream",
     "text": [
      "['4', '3', '43', '23', '12']\n"
     ]
    }
   ],
   "source": [
    "n = eval(input(\"Enter the total number of elements: \"))\n",
    "lst = []\n",
    "for i in range(n):\n",
    "    x = input(\"Enter element [{}]:\".format(i))\n",
    "    lst.append(x)\n",
    "\n",
    "print(lst)"
   ]
  },
  {
   "cell_type": "code",
   "execution_count": 8,
   "metadata": {},
   "outputs": [
    {
     "name": "stdout",
     "output_type": "stream",
     "text": [
      "All elements in list are numbers\n"
     ]
    }
   ],
   "source": [
    "def check_num_in_lst():\n",
    "    for i in lst:\n",
    "        if not i.lstrip(\"-\").isdigit():\n",
    "            return False\n",
    "    return True\n",
    "\n",
    "is_numerical_list = check_num_in_lst()\n",
    "print(\"All elements in list are numbers\" if is_numerical_list else \"All elements in list are not numbers\")\n"
   ]
  },
  {
   "cell_type": "markdown",
   "metadata": {},
   "source": [
    "2. If numeric list then count number of odd values in it"
   ]
  },
  {
   "cell_type": "code",
   "execution_count": 9,
   "metadata": {},
   "outputs": [
    {
     "name": "stdout",
     "output_type": "stream",
     "text": [
      "There are 3 odd values in the numerical list\n"
     ]
    }
   ],
   "source": [
    "counter = 0\n",
    "if is_numerical_list:\n",
    "    for i in lst:\n",
    "        if (int(i)%2 != 0):\n",
    "            counter += 1\n",
    "    print(\"There are {} odd values in the numerical list\".format(counter))"
   ]
  },
  {
   "cell_type": "markdown",
   "metadata": {},
   "source": [
    "3. if string list then display the largest string in the list "
   ]
  },
  {
   "cell_type": "code",
   "execution_count": 10,
   "metadata": {},
   "outputs": [],
   "source": [
    "if not is_numerical_list:\n",
    "    largest_string = \"\"\n",
    "    for i in lst:\n",
    "        if len(i) > len(largest_string):\n",
    "            largest_string = i\n",
    "    print(\"The largest string in the list is {}\".format(largest_string))"
   ]
  },
  {
   "cell_type": "markdown",
   "metadata": {},
   "source": [
    "4. if all elements are strings then count numeric string and string with alphabets only separately\n"
   ]
  },
  {
   "cell_type": "code",
   "execution_count": 11,
   "metadata": {},
   "outputs": [],
   "source": [
    "if not is_numerical_list:\n",
    "    count_numeric = 0\n",
    "    count_alpha = 0\n",
    "    for i in lst:\n",
    "        if i.isdigit():\n",
    "            count_numeric += 1\n",
    "        elif i.isalpha():\n",
    "            count_alpha += 1\n",
    "    print(\"{0} numeric string(s) and {1} alpha only string(s)\".format(count_numeric, count_alpha))"
   ]
  },
  {
   "cell_type": "markdown",
   "metadata": {},
   "source": [
    "5. Create a dictionary to keep track of count of distinct elements in the list e.g. {'element1': 2,element2':3...}"
   ]
  },
  {
   "cell_type": "code",
   "execution_count": 12,
   "metadata": {},
   "outputs": [
    {
     "name": "stdout",
     "output_type": "stream",
     "text": [
      "{'4': 1, '3': 1, '43': 1, '23': 1, '12': 1}\n"
     ]
    }
   ],
   "source": [
    "my_dic = {}\n",
    "for i in lst:\n",
    "    my_dic[i] = lst.count(i)\n",
    "print(my_dic)"
   ]
  }
 ],
 "metadata": {
  "kernelspec": {
   "display_name": "Python 3 (ipykernel)",
   "language": "python",
   "name": "python3"
  },
  "language_info": {
   "codemirror_mode": {
    "name": "ipython",
    "version": 3
   },
   "file_extension": ".py",
   "mimetype": "text/x-python",
   "name": "python",
   "nbconvert_exporter": "python",
   "pygments_lexer": "ipython3",
   "version": "3.10.5"
  },
  "vscode": {
   "interpreter": {
    "hash": "e7370f93d1d0cde622a1f8e1c04877d8463912d04d973331ad4851f04de6915a"
   }
  }
 },
 "nbformat": 4,
 "nbformat_minor": 2
}
